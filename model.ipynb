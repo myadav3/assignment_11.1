{
 "cells": [
  {
   "cell_type": "code",
   "execution_count": 129,
   "id": "d3e8c2ad",
   "metadata": {},
   "outputs": [],
   "source": [
    "import pandas as pd\n",
    "import numpy as np\n",
    "import matplotlib.pyplot as plt\n",
    "import seaborn as sns\n",
    "\n",
    "from sklearn.neighbors import KNeighborsClassifier\n",
    "from sklearn.preprocessing import StandardScaler, OneHotEncoder\n",
    "from sklearn.model_selection import train_test_split, GridSearchCV\n",
    "from sklearn.compose import make_column_transformer\n",
    "from sklearn.pipeline import Pipeline\n",
    "from sklearn import set_config\n",
    "\n",
    "set_config(display=\"diagram\")"
   ]
  },
  {
   "cell_type": "code",
   "execution_count": 130,
   "id": "d8b318ed",
   "metadata": {},
   "outputs": [
    {
     "data": {
      "text/plain": [
       "id                   0\n",
       "region               0\n",
       "year                 0\n",
       "manufacturer      8107\n",
       "model             2406\n",
       "condition        80787\n",
       "cylinders        85368\n",
       "fuel                 0\n",
       "odometer             0\n",
       "title_status      4277\n",
       "transmission       844\n",
       "drive            64984\n",
       "size            147011\n",
       "type             44976\n",
       "paint_color      61392\n",
       "price                0\n",
       "dtype: int64"
      ]
     },
     "execution_count": 130,
     "metadata": {},
     "output_type": "execute_result"
    }
   ],
   "source": [
    "df = pd.read_csv('data/vehicles1.csv')\n",
    "df.dropna(subset=['year'], inplace=True)\n",
    "df.dropna(subset=['odometer'], inplace=True)\n",
    "df.isnull().sum()"
   ]
  },
  {
   "cell_type": "code",
   "execution_count": 131,
   "id": "d9152d86",
   "metadata": {},
   "outputs": [
    {
     "data": {
      "text/html": [
       "<div>\n",
       "<style scoped>\n",
       "    .dataframe tbody tr th:only-of-type {\n",
       "        vertical-align: middle;\n",
       "    }\n",
       "\n",
       "    .dataframe tbody tr th {\n",
       "        vertical-align: top;\n",
       "    }\n",
       "\n",
       "    .dataframe thead th {\n",
       "        text-align: right;\n",
       "    }\n",
       "</style>\n",
       "<table border=\"1\" class=\"dataframe\">\n",
       "  <thead>\n",
       "    <tr style=\"text-align: right;\">\n",
       "      <th></th>\n",
       "      <th>region</th>\n",
       "      <th>year</th>\n",
       "      <th>manufacturer</th>\n",
       "      <th>model</th>\n",
       "      <th>condition</th>\n",
       "      <th>cylinders</th>\n",
       "      <th>fuel</th>\n",
       "      <th>odometer</th>\n",
       "      <th>title_status</th>\n",
       "      <th>transmission</th>\n",
       "      <th>drive</th>\n",
       "      <th>size</th>\n",
       "      <th>type</th>\n",
       "      <th>paint_color</th>\n",
       "      <th>price</th>\n",
       "    </tr>\n",
       "  </thead>\n",
       "  <tbody>\n",
       "    <tr>\n",
       "      <th>27</th>\n",
       "      <td>auburn</td>\n",
       "      <td>2014.0</td>\n",
       "      <td>gmc</td>\n",
       "      <td>sierra 1500 crew cab slt</td>\n",
       "      <td>good</td>\n",
       "      <td>8 cylinders</td>\n",
       "      <td>gas</td>\n",
       "      <td>57923.0</td>\n",
       "      <td>clean</td>\n",
       "      <td>other</td>\n",
       "      <td>NaN</td>\n",
       "      <td>NaN</td>\n",
       "      <td>pickup</td>\n",
       "      <td>white</td>\n",
       "      <td>33590</td>\n",
       "    </tr>\n",
       "    <tr>\n",
       "      <th>28</th>\n",
       "      <td>auburn</td>\n",
       "      <td>2010.0</td>\n",
       "      <td>chevrolet</td>\n",
       "      <td>silverado 1500</td>\n",
       "      <td>good</td>\n",
       "      <td>8 cylinders</td>\n",
       "      <td>gas</td>\n",
       "      <td>71229.0</td>\n",
       "      <td>clean</td>\n",
       "      <td>other</td>\n",
       "      <td>NaN</td>\n",
       "      <td>NaN</td>\n",
       "      <td>pickup</td>\n",
       "      <td>blue</td>\n",
       "      <td>22590</td>\n",
       "    </tr>\n",
       "    <tr>\n",
       "      <th>29</th>\n",
       "      <td>auburn</td>\n",
       "      <td>2020.0</td>\n",
       "      <td>chevrolet</td>\n",
       "      <td>silverado 1500 crew</td>\n",
       "      <td>good</td>\n",
       "      <td>8 cylinders</td>\n",
       "      <td>gas</td>\n",
       "      <td>19160.0</td>\n",
       "      <td>clean</td>\n",
       "      <td>other</td>\n",
       "      <td>NaN</td>\n",
       "      <td>NaN</td>\n",
       "      <td>pickup</td>\n",
       "      <td>red</td>\n",
       "      <td>39590</td>\n",
       "    </tr>\n",
       "    <tr>\n",
       "      <th>30</th>\n",
       "      <td>auburn</td>\n",
       "      <td>2017.0</td>\n",
       "      <td>toyota</td>\n",
       "      <td>tundra double cab sr</td>\n",
       "      <td>good</td>\n",
       "      <td>8 cylinders</td>\n",
       "      <td>gas</td>\n",
       "      <td>41124.0</td>\n",
       "      <td>clean</td>\n",
       "      <td>other</td>\n",
       "      <td>NaN</td>\n",
       "      <td>NaN</td>\n",
       "      <td>pickup</td>\n",
       "      <td>red</td>\n",
       "      <td>30990</td>\n",
       "    </tr>\n",
       "    <tr>\n",
       "      <th>31</th>\n",
       "      <td>auburn</td>\n",
       "      <td>2013.0</td>\n",
       "      <td>ford</td>\n",
       "      <td>f-150 xlt</td>\n",
       "      <td>excellent</td>\n",
       "      <td>6 cylinders</td>\n",
       "      <td>gas</td>\n",
       "      <td>128000.0</td>\n",
       "      <td>clean</td>\n",
       "      <td>automatic</td>\n",
       "      <td>rwd</td>\n",
       "      <td>full-size</td>\n",
       "      <td>truck</td>\n",
       "      <td>black</td>\n",
       "      <td>15000</td>\n",
       "    </tr>\n",
       "  </tbody>\n",
       "</table>\n",
       "</div>"
      ],
      "text/plain": [
       "    region    year manufacturer                     model  condition  \\\n",
       "27  auburn  2014.0          gmc  sierra 1500 crew cab slt       good   \n",
       "28  auburn  2010.0    chevrolet            silverado 1500       good   \n",
       "29  auburn  2020.0    chevrolet       silverado 1500 crew       good   \n",
       "30  auburn  2017.0       toyota      tundra double cab sr       good   \n",
       "31  auburn  2013.0         ford                 f-150 xlt  excellent   \n",
       "\n",
       "      cylinders fuel  odometer title_status transmission drive       size  \\\n",
       "27  8 cylinders  gas   57923.0        clean        other   NaN        NaN   \n",
       "28  8 cylinders  gas   71229.0        clean        other   NaN        NaN   \n",
       "29  8 cylinders  gas   19160.0        clean        other   NaN        NaN   \n",
       "30  8 cylinders  gas   41124.0        clean        other   NaN        NaN   \n",
       "31  6 cylinders  gas  128000.0        clean    automatic   rwd  full-size   \n",
       "\n",
       "      type paint_color  price  \n",
       "27  pickup       white  33590  \n",
       "28  pickup        blue  22590  \n",
       "29  pickup         red  39590  \n",
       "30  pickup         red  30990  \n",
       "31   truck       black  15000  "
      ]
     },
     "execution_count": 131,
     "metadata": {},
     "output_type": "execute_result"
    }
   ],
   "source": [
    "df=df.drop('id',axis=1)\n",
    "df2=df.copy()\n",
    "df.head()"
   ]
  },
  {
   "cell_type": "code",
   "execution_count": 132,
   "id": "e109ffc1",
   "metadata": {},
   "outputs": [],
   "source": [
    "#defining numerical and categorical values\n",
    "\n",
    "num_col=['year','odometer']\n",
    "cat_cols=['region','manufacturer','model','condition','cylinders','fuel','title_status','transmission','drive','size','type','paint_color']"
   ]
  },
  {
   "cell_type": "code",
   "execution_count": 133,
   "id": "38b9cd94",
   "metadata": {},
   "outputs": [],
   "source": [
    "le=preprocessing.LabelEncoder()\n",
    "df[cat_cols]=df[cat_cols].apply(le.fit_transform)"
   ]
  },
  {
   "cell_type": "code",
   "execution_count": 134,
   "id": "de1a1eac",
   "metadata": {},
   "outputs": [
    {
     "data": {
      "text/html": [
       "<div>\n",
       "<style scoped>\n",
       "    .dataframe tbody tr th:only-of-type {\n",
       "        vertical-align: middle;\n",
       "    }\n",
       "\n",
       "    .dataframe tbody tr th {\n",
       "        vertical-align: top;\n",
       "    }\n",
       "\n",
       "    .dataframe thead th {\n",
       "        text-align: right;\n",
       "    }\n",
       "</style>\n",
       "<table border=\"1\" class=\"dataframe\">\n",
       "  <thead>\n",
       "    <tr style=\"text-align: right;\">\n",
       "      <th></th>\n",
       "      <th>region</th>\n",
       "      <th>year</th>\n",
       "      <th>manufacturer</th>\n",
       "      <th>model</th>\n",
       "      <th>condition</th>\n",
       "      <th>cylinders</th>\n",
       "      <th>fuel</th>\n",
       "      <th>odometer</th>\n",
       "      <th>title_status</th>\n",
       "      <th>transmission</th>\n",
       "      <th>drive</th>\n",
       "      <th>size</th>\n",
       "      <th>type</th>\n",
       "      <th>paint_color</th>\n",
       "      <th>price</th>\n",
       "    </tr>\n",
       "  </thead>\n",
       "  <tbody>\n",
       "    <tr>\n",
       "      <th>27</th>\n",
       "      <td>8</td>\n",
       "      <td>2014.0</td>\n",
       "      <td>14</td>\n",
       "      <td>15441</td>\n",
       "      <td>2</td>\n",
       "      <td>6</td>\n",
       "      <td>3</td>\n",
       "      <td>57923.0</td>\n",
       "      <td>0</td>\n",
       "      <td>2</td>\n",
       "      <td>3</td>\n",
       "      <td>4</td>\n",
       "      <td>8</td>\n",
       "      <td>10</td>\n",
       "      <td>33590</td>\n",
       "    </tr>\n",
       "    <tr>\n",
       "      <th>28</th>\n",
       "      <td>8</td>\n",
       "      <td>2010.0</td>\n",
       "      <td>7</td>\n",
       "      <td>15703</td>\n",
       "      <td>2</td>\n",
       "      <td>6</td>\n",
       "      <td>3</td>\n",
       "      <td>71229.0</td>\n",
       "      <td>0</td>\n",
       "      <td>2</td>\n",
       "      <td>3</td>\n",
       "      <td>4</td>\n",
       "      <td>8</td>\n",
       "      <td>1</td>\n",
       "      <td>22590</td>\n",
       "    </tr>\n",
       "  </tbody>\n",
       "</table>\n",
       "</div>"
      ],
      "text/plain": [
       "    region    year  manufacturer  model  condition  cylinders  fuel  odometer  \\\n",
       "27       8  2014.0            14  15441          2          6     3   57923.0   \n",
       "28       8  2010.0             7  15703          2          6     3   71229.0   \n",
       "\n",
       "    title_status  transmission  drive  size  type  paint_color  price  \n",
       "27             0             2      3     4     8           10  33590  \n",
       "28             0             2      3     4     8            1  22590  "
      ]
     },
     "execution_count": 134,
     "metadata": {},
     "output_type": "execute_result"
    }
   ],
   "source": [
    "df.head(2)"
   ]
  },
  {
   "cell_type": "code",
   "execution_count": 135,
   "id": "84d812c6",
   "metadata": {},
   "outputs": [
    {
     "name": "stderr",
     "output_type": "stream",
     "text": [
      "C:\\Users\\yadavm3\\AppData\\Local\\anaconda3\\Lib\\site-packages\\pandas\\core\\arraylike.py:396: RuntimeWarning: divide by zero encountered in log\n",
      "  result = getattr(ufunc, method)(*inputs, **kwargs)\n"
     ]
    }
   ],
   "source": [
    "#scaling numerical data\n",
    "\n",
    "norm = StandardScaler()\n",
    "df['price'] = np.log(df['price'])\n",
    "df['odometer'] = norm.fit_transform(np.array(df['odometer']).reshape(-1,1))\n",
    "df['year'] = norm.fit_transform(np.array(df['year']).reshape(-1,1))\n",
    "df['model'] = norm.fit_transform(np.array(df['model']).reshape(-1,1))"
   ]
  },
  {
   "cell_type": "code",
   "execution_count": 136,
   "id": "ba3a3077",
   "metadata": {},
   "outputs": [],
   "source": [
    "#scaling target variable\n",
    "q1,q3=(df['price'].quantile([0.25,0.75]))\n",
    "o1=q1-1.5*(q3-q1)\n",
    "o2=q3+1.5*(q3-q1)\n",
    "df=df[(df.price>=o1) & (df.price<=o2)]"
   ]
  },
  {
   "cell_type": "code",
   "execution_count": 137,
   "id": "f4e57a4c",
   "metadata": {},
   "outputs": [],
   "source": [
    "\n",
    "#function to split dataset int training and test\n",
    "def trainingData(df,n):\n",
    "    X = df.iloc[:,n]\n",
    "    y = df.iloc[:,-1:].values.T\n",
    "    y=y[0]\n",
    "    X_train,X_test,y_train,y_test=train_test_split(X,y,train_size=0.9,test_size=0.1,random_state=0)\n",
    "    return (X_train,X_test,y_train,y_test)\n",
    "\n",
    "X_train,X_test,y_train,y_test=trainingData(df,list(range(len(list(df.columns))-1)))"
   ]
  },
  {
   "cell_type": "code",
   "execution_count": 138,
   "id": "727f1ae3",
   "metadata": {},
   "outputs": [],
   "source": [
    "\n",
    "#some of models will predict neg values so this function will remove that values\n",
    "def remove_neg(y_test,y_pred):\n",
    "    ind=[index for index in range(len(y_pred)) if(y_pred[index]>0)]\n",
    "    y_pred=y_pred[ind]\n",
    "    y_test=y_test[ind]\n",
    "    y_pred[y_pred<0]\n",
    "    return (y_test,y_pred)\n",
    "\n",
    "#function for evaluation of model\n",
    "def result(y_test,y_pred):\n",
    "    r=[]\n",
    "    r.append(mean_squared_log_error(y_test, y_pred))\n",
    "    r.append(np.sqrt(r[0]))\n",
    "    r.append(r2_score(y_test,y_pred))\n",
    "    r.append(round(r2_score(y_test,y_pred)*100,4))\n",
    "    return (r)\n",
    "\n",
    "#dataframe that store the performance of each model\n",
    "accu=pd.DataFrame(index=['MSLE', 'Root MSLE', 'R2 Score','Accuracy(%)'])    "
   ]
  },
  {
   "cell_type": "code",
   "execution_count": 139,
   "id": "01e53f6d",
   "metadata": {},
   "outputs": [],
   "source": [
    "#fitting model\n",
    "LR=LinearRegression()\n",
    "LR.fit(X_train,y_train)\n",
    "y_pred=LR.predict(X_test)"
   ]
  },
  {
   "cell_type": "code",
   "execution_count": 140,
   "id": "06967379",
   "metadata": {},
   "outputs": [
    {
     "name": "stdout",
     "output_type": "stream",
     "text": [
      "Coefficients: \n",
      " [ 6.88236865e-05  2.72593312e-01 -2.91654819e-03  2.88160232e-03\n",
      "  1.07777328e-02  7.15015685e-02 -1.22805808e-01 -1.37201466e-01\n",
      " -3.62410609e-02  2.48145633e-01 -8.62388849e-02  3.52083517e-02\n",
      " -9.87352945e-03 -3.94078108e-03]\n",
      "MSLE : 0.0053711105881358145\n",
      "Root MSLE : 0.07328786112403482\n",
      "R2 Score : 0.29113512381044326 or 29.1135%\n"
     ]
    }
   ],
   "source": [
    "\n",
    "#calculating error/accuracy\n",
    "y_test_1,y_pred_1=remove_neg(y_test,y_pred)\n",
    "r1_lr=result(y_test_1,y_pred_1)\n",
    "print('Coefficients: \\n', LR.coef_)\n",
    "print(\"MSLE : {}\".format(r1_lr[0]))\n",
    "print(\"Root MSLE : {}\".format(r1_lr[1]))\n",
    "print(\"R2 Score : {} or {}%\".format(r1_lr[2],r1_lr[3]))\n",
    "accu['Linear Regression']=r1_lr"
   ]
  },
  {
   "cell_type": "code",
   "execution_count": 141,
   "id": "33200f54",
   "metadata": {},
   "outputs": [
    {
     "data": {
      "image/png": "[encoded data removed]",
      "text/plain": [
       "<Figure size 600x600 with 1 Axes>"
      ]
     },
     "metadata": {},
     "output_type": "display_data"
    }
   ],
   "source": [
    "#Ploting feature importance graph\n",
    "\n",
    "coef = pd.Series(LR.coef_, index = X_train.columns)\n",
    "imp_coef = coef.sort_values()\n",
    "matplotlib.rcParams['figure.figsize'] = (6.0, 6.0)\n",
    "imp_coef.plot(kind = \"barh\")\n",
    "plt.title(\"Feature importance using Linear Regression Model\")\n",
    "plt.show()"
   ]
  },
  {
   "cell_type": "code",
   "execution_count": 120,
   "id": "946561cc",
   "metadata": {
    "scrolled": true
   },
   "outputs": [
    {
     "data": {
      "image/png": "[encoded data removed]",
      "text/plain": [
       "<Figure size 1000x500 with 1 Axes>"
      ]
     },
     "metadata": {},
     "output_type": "display_data"
    }
   ],
   "source": [
    "df_check = pd.DataFrame({'Actual': y_test_1, 'Predicted': y_pred_1})\n",
    "df_check = df_check.sample(20)\n",
    "df_check.plot(kind='bar',figsize=(10,5))\n",
    "plt.grid(which='major', linestyle='-', linewidth='0.1', color='Green')\n",
    "plt.title('Performance of Linear Regression')\n",
    "plt.show()"
   ]
  },
  {
   "cell_type": "markdown",
   "id": "b14d92f1",
   "metadata": {},
   "source": [
    "# Lasso Regression"
   ]
  },
  {
   "cell_type": "code",
   "execution_count": 122,
   "id": "f6c9643a",
   "metadata": {},
   "outputs": [],
   "source": [
    "#model object and fitting it\n",
    "lasso=Lasso(alpha=0.0001)\n",
    "lasso.fit(X_train,y_train)\n",
    "y_pred=lasso.predict(X_test)"
   ]
  },
  {
   "cell_type": "code",
   "execution_count": 123,
   "id": "5ebfbef4",
   "metadata": {},
   "outputs": [
    {
     "name": "stdout",
     "output_type": "stream",
     "text": [
      "MSLE : 0.000512489497787545\n",
      "Root MSLE : 0.022638230889085502\n",
      "R2 Score : 0.2944718889491529 or 29.4472%\n"
     ]
    }
   ],
   "source": [
    "#model evaluation\n",
    "y_test_3,y_pred_3=remove_neg(y_test,y_pred)\n",
    "r3_lasso=result(y_test_3,y_pred_3)\n",
    "print(\"MSLE : {}\".format(r3_lasso[0]))\n",
    "print(\"Root MSLE : {}\".format(r3_lasso[1]))\n",
    "print(\"R2 Score : {} or {}%\".format(r3_lasso[2],r3_lasso[3]))\n",
    "accu['Lasso Regression']=r3_lasso"
   ]
  },
  {
   "cell_type": "markdown",
   "id": "2eca90d8",
   "metadata": {},
   "source": [
    "# K-Neighbors Regressor"
   ]
  },
  {
   "cell_type": "code",
   "execution_count": 125,
   "id": "6116fcec",
   "metadata": {},
   "outputs": [
    {
     "name": "stdout",
     "output_type": "stream",
     "text": [
      "K = 1  , Root MSLE = 0.015474834943066227\n",
      "K = 2  , Root MSLE = 0.014349424625725065\n",
      "K = 3  , Root MSLE = 0.014172131116821234\n",
      "K = 4  , Root MSLE = 0.014203901428746916\n",
      "K = 5  , Root MSLE = 0.014265009409299154\n",
      "K = 6  , Root MSLE = 0.01434832404106161\n",
      "K = 7  , Root MSLE = 0.014442943244413213\n",
      "K = 8  , Root MSLE = 0.014548156564556105\n",
      "K = 9  , Root MSLE = 0.014640858007701707\n"
     ]
    }
   ],
   "source": [
    "#estimating MSLE for k=1-9\n",
    "from sklearn.neighbors import KNeighborsRegressor\n",
    "R_MSLE=[]\n",
    "for i in range(1,10):\n",
    "    KNN=KNeighborsRegressor(n_neighbors=i)\n",
    "    KNN.fit(X_train,y_train)\n",
    "    y_pred=KNN.predict(X_test)\n",
    "    error=np.sqrt(mean_squared_log_error(y_test, y_pred))\n",
    "    R_MSLE.append(error)\n",
    "    print(\"K =\",i,\" , Root MSLE =\",error)"
   ]
  },
  {
   "cell_type": "code",
   "execution_count": 126,
   "id": "5ce1a938",
   "metadata": {},
   "outputs": [
    {
     "data": {
      "image/png": "[encoded data removed]",
      "text/plain": [
       "<Figure size 800x400 with 1 Axes>"
      ]
     },
     "metadata": {},
     "output_type": "display_data"
    }
   ],
   "source": [
    "#plotting error\n",
    "\n",
    "curve = pd.DataFrame(R_MSLE) #elbow curve \n",
    "plt.figure(figsize=(8,4))\n",
    "plt.xticks(list(range(1,10)), list(range(1,10)), rotation='horizontal')\n",
    "plt.plot(list(range(1,10)),R_MSLE)\n",
    "plt.xlabel('K')\n",
    "plt.ylabel('MSLE')\n",
    "plt.title('Error Plot for Each K')\n",
    "plt.show()"
   ]
  },
  {
   "cell_type": "code",
   "execution_count": 127,
   "id": "a2db707f",
   "metadata": {},
   "outputs": [],
   "source": [
    "#model implementation\n",
    "KNN=KNeighborsRegressor(n_neighbors=5) \n",
    "KNN.fit(X_train,y_train)\n",
    "y_pred=KNN.predict(X_test)"
   ]
  },
  {
   "cell_type": "code",
   "execution_count": 128,
   "id": "896e3286",
   "metadata": {},
   "outputs": [
    {
     "name": "stdout",
     "output_type": "stream",
     "text": [
      "MSLE : 0.0002034904934473934\n",
      "Root MSLE : 0.014265009409299154\n",
      "R2 Score : 0.7191225312293793 or 71.9123%\n"
     ]
    }
   ],
   "source": [
    "#model evaluation\n",
    "r4_knn=result(y_test,y_pred)\n",
    "print(\"MSLE : {}\".format(r4_knn[0]))\n",
    "print(\"Root MSLE : {}\".format(r4_knn[1]))\n",
    "print(\"R2 Score : {} or {}%\".format(r4_knn[2],r4_knn[3]))\n",
    "accu['KNN']=r4_knn"
   ]
  },
  {
   "cell_type": "code",
   "execution_count": null,
   "id": "5d73165d",
   "metadata": {},
   "outputs": [],
   "source": []
  }
 ],
 "metadata": {
  "kernelspec": {
   "display_name": "Python 3 (ipykernel)",
   "language": "python",
   "name": "python3"
  },
  "language_info": {
   "codemirror_mode": {
    "name": "ipython",
    "version": 3
   },
   "file_extension": ".py",
   "mimetype": "text/x-python",
   "name": "python",
   "nbconvert_exporter": "python",
   "pygments_lexer": "ipython3",
   "version": "3.11.5"
  }
 },
 "nbformat": 4,
 "nbformat_minor": 5
}
